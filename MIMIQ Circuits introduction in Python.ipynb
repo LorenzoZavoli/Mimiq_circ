{
 "cells": [
  {
   "cell_type": "markdown",
   "id": "fed4cdd2-1b46-4b31-a499-c0d1d2b46534",
   "metadata": {
    "id": "fed4cdd2-1b46-4b31-a499-c0d1d2b46534"
   },
   "source": [
    "<div align=center>\n",
    "<img src=\"data:image/svg+xml;base64,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\" alt=\"QPerfect Banner\" style=\"width: 100%;\" />\n",
    "</div>"
   ]
  },
  {
   "cell_type": "markdown",
   "id": "829f8a96-f19b-4bd0-92f8-6501ce9d0bc8",
   "metadata": {
    "id": "829f8a96-f19b-4bd0-92f8-6501ce9d0bc8"
   },
   "source": [
    "# Using MIMIQ Circuits"
   ]
  },
  {
   "cell_type": "code",
   "execution_count": null,
   "id": "6fc1fa57",
   "metadata": {},
   "outputs": [],
   "source": []
  },
  {
   "cell_type": "markdown",
   "id": "Gn4z-S5zQRyL",
   "metadata": {
    "id": "Gn4z-S5zQRyL"
   },
   "source": [
    "Only needed on Google Colab. It will install the required libraries."
   ]
  },
  {
   "cell_type": "code",
   "execution_count": 1,
   "id": "THpuUW5KQQrN",
   "metadata": {
    "collapsed": true,
    "executionInfo": {
     "elapsed": 3888,
     "status": "ok",
     "timestamp": 1740069741562,
     "user": {
      "displayName": "Guido Masella",
      "userId": "04164583198120049926"
     },
     "user_tz": -60
    },
    "id": "THpuUW5KQQrN"
   },
   "outputs": [],
   "source": [
    "!pip3 --quiet install \"mimiqcircuits[visualization]\" > /dev/null"
   ]
  },
  {
   "cell_type": "markdown",
   "id": "3c5f0c88-26ce-4fb0-9e00-810d62eb5db2",
   "metadata": {
    "id": "3c5f0c88-26ce-4fb0-9e00-810d62eb5db2"
   },
   "source": [
    "Import the necessary libraries"
   ]
  },
  {
   "cell_type": "code",
   "execution_count": 2,
   "id": "6108d91a-6e49-4df6-bc5e-5acb10ca6913",
   "metadata": {
    "executionInfo": {
     "elapsed": 7264,
     "status": "ok",
     "timestamp": 1740069748828,
     "user": {
      "displayName": "Guido Masella",
      "userId": "04164583198120049926"
     },
     "user_tz": -60
    },
    "id": "6108d91a-6e49-4df6-bc5e-5acb10ca6913"
   },
   "outputs": [],
   "source": [
    "from mimiqcircuits import *"
   ]
  },
  {
   "cell_type": "markdown",
   "id": "b216fa63-7fa4-48aa-b617-da668eb8e3e5",
   "metadata": {
    "id": "b216fa63-7fa4-48aa-b617-da668eb8e3e5"
   },
   "source": [
    "# Circuit Creation"
   ]
  },
  {
   "cell_type": "markdown",
   "id": "44c134ad-53f9-4ee8-bad9-ea3871f9f25b",
   "metadata": {
    "id": "44c134ad-53f9-4ee8-bad9-ea3871f9f25b"
   },
   "source": [
    "## Step 1: Initialize and empty circuit"
   ]
  },
  {
   "cell_type": "code",
   "execution_count": 3,
   "id": "c4704832-6690-42f9-9894-b7972a90d887",
   "metadata": {
    "executionInfo": {
     "elapsed": 1,
     "status": "ok",
     "timestamp": 1740069748831,
     "user": {
      "displayName": "Guido Masella",
      "userId": "04164583198120049926"
     },
     "user_tz": -60
    },
    "id": "c4704832-6690-42f9-9894-b7972a90d887"
   },
   "outputs": [],
   "source": [
    "c = Circuit()"
   ]
  },
  {
   "cell_type": "markdown",
   "id": "29fb4a1a-36b3-48de-9485-619582224ad2",
   "metadata": {
    "id": "29fb4a1a-36b3-48de-9485-619582224ad2"
   },
   "source": [
    "## Step 2: Add a single gate to the circuit"
   ]
  },
  {
   "cell_type": "code",
   "execution_count": 4,
   "id": "9173fcf3-7ecc-4603-b262-f220f90c9538",
   "metadata": {
    "colab": {
     "base_uri": "https://localhost:8080/"
    },
    "executionInfo": {
     "elapsed": 5,
     "status": "ok",
     "timestamp": 1740069748837,
     "user": {
      "displayName": "Guido Masella",
      "userId": "04164583198120049926"
     },
     "user_tz": -60
    },
    "id": "9173fcf3-7ecc-4603-b262-f220f90c9538",
    "outputId": "34a8c698-036a-4546-be87-00a6968262f6"
   },
   "outputs": [
    {
     "data": {
      "text/plain": [
       "1-qubit circuit with 1 instructions:\n",
       "└── H @ q[0]"
      ]
     },
     "execution_count": 4,
     "metadata": {},
     "output_type": "execute_result"
    }
   ],
   "source": [
    "c.push(GateH(), 0)"
   ]
  },
  {
   "cell_type": "markdown",
   "id": "920f81cf-bf22-4e7a-8e32-114e0516a69d",
   "metadata": {
    "id": "920f81cf-bf22-4e7a-8e32-114e0516a69d"
   },
   "source": [
    "A Hadamard gate has been added to the specified qubit. Remember, in Python indices (and qubit indices) starts from `0`."
   ]
  },
  {
   "cell_type": "markdown",
   "id": "ca1186bf-66e9-479a-bf8d-cc2802a04942",
   "metadata": {
    "id": "ca1186bf-66e9-479a-bf8d-cc2802a04942"
   },
   "source": [
    "## Step 3: Get quick information about the gate"
   ]
  },
  {
   "cell_type": "markdown",
   "id": "6af2c388-e759-4b66-b5ab-2c48c6f781a9",
   "metadata": {
    "id": "6af2c388-e759-4b66-b5ab-2c48c6f781a9"
   },
   "source": [
    "This will display quick information about the Hadamard gate. The quick help is a Jupyter feature. It is available for most of the classes and functions of MIMIQ circuits."
   ]
  },
  {
   "cell_type": "markdown",
   "id": "0e9d668e-3d4c-4564-89a7-ca13c4e41078",
   "metadata": {
    "id": "0e9d668e-3d4c-4564-89a7-ca13c4e41078"
   },
   "source": [
    "## Step 4: Add more gates together"
   ]
  },
  {
   "cell_type": "markdown",
   "id": "0ccb4d76-f3e1-45cf-b7eb-d26c3790bab8",
   "metadata": {
    "id": "0ccb4d76-f3e1-45cf-b7eb-d26c3790bab8"
   },
   "source": [
    "We can add the same gates multiple times on different qubits in a single instruction."
   ]
  },
  {
   "cell_type": "code",
   "execution_count": 5,
   "id": "af6151cd-0d5b-4997-af0b-2822ab83ddc4",
   "metadata": {
    "colab": {
     "base_uri": "https://localhost:8080/"
    },
    "executionInfo": {
     "elapsed": 6,
     "status": "ok",
     "timestamp": 1740069748844,
     "user": {
      "displayName": "Guido Masella",
      "userId": "04164583198120049926"
     },
     "user_tz": -60
    },
    "id": "af6151cd-0d5b-4997-af0b-2822ab83ddc4",
    "outputId": "71ecb12e-752c-4783-8f8e-d78f53a6b0e2"
   },
   "outputs": [
    {
     "data": {
      "text/plain": [
       "10-qubit circuit with 10 instructions:\n",
       "├── H @ q[0]\n",
       "├── CX @ q[0], q[1]\n",
       "├── CX @ q[0], q[2]\n",
       "├── CX @ q[0], q[3]\n",
       "├── CX @ q[0], q[4]\n",
       "├── CX @ q[0], q[5]\n",
       "├── CX @ q[0], q[6]\n",
       "├── CX @ q[0], q[7]\n",
       "├── CX @ q[0], q[8]\n",
       "└── CX @ q[0], q[9]"
      ]
     },
     "execution_count": 5,
     "metadata": {},
     "output_type": "execute_result"
    }
   ],
   "source": [
    "c.push(GateCX(), 0, range(1,10))"
   ]
  },
  {
   "cell_type": "markdown",
   "id": "63578883-740e-46ab-a95c-c27b6f313329",
   "metadata": {
    "id": "63578883-740e-46ab-a95c-c27b6f313329"
   },
   "source": [
    "The syntax can be summarized by:\n",
    "\n",
    "```\n",
    "for i in range(1,10):\n",
    "    c.push(GateCX(), 0, i)\n",
    "```\n",
    "\n",
    "In more complex cases, if `v, s, t` are iterables, and `a, b` are single indices, then `c.push(<some gate>, a, v, s, b, t)` will be translated to\n",
    "\n",
    "```\n",
    "for i in range(ml):\n",
    "    c.push(<some gate>, a, v[i], s[i], b, t[i])\n",
    "```\n",
    "\n",
    "where `ml` is the minimum length between `v, s, t`."
   ]
  },
  {
   "cell_type": "markdown",
   "id": "55f859c3-72f1-4452-80be-a39b425454cb",
   "metadata": {
    "id": "55f859c3-72f1-4452-80be-a39b425454cb"
   },
   "source": [
    "## Step 5: The constructed circuit"
   ]
  },
  {
   "cell_type": "code",
   "execution_count": 6,
   "id": "77341008-b1e7-49fb-929a-2a699f6af971",
   "metadata": {
    "colab": {
     "base_uri": "https://localhost:8080/"
    },
    "executionInfo": {
     "elapsed": 3,
     "status": "ok",
     "timestamp": 1740069748844,
     "user": {
      "displayName": "Guido Masella",
      "userId": "04164583198120049926"
     },
     "user_tz": -60
    },
    "id": "77341008-b1e7-49fb-929a-2a699f6af971",
    "outputId": "58ba8d56-902f-42bd-e54b-241fb681c8af"
   },
   "outputs": [
    {
     "data": {
      "text/plain": [
       "10-qubit circuit with 10 instructions:\n",
       "├── H @ q[0]\n",
       "├── CX @ q[0], q[1]\n",
       "├── CX @ q[0], q[2]\n",
       "├── CX @ q[0], q[3]\n",
       "├── CX @ q[0], q[4]\n",
       "├── CX @ q[0], q[5]\n",
       "├── CX @ q[0], q[6]\n",
       "├── CX @ q[0], q[7]\n",
       "├── CX @ q[0], q[8]\n",
       "└── CX @ q[0], q[9]"
      ]
     },
     "execution_count": 6,
     "metadata": {},
     "output_type": "execute_result"
    }
   ],
   "source": [
    "c"
   ]
  },
  {
   "cell_type": "markdown",
   "id": "19d5be07-8bb4-4381-92b3-48ee32366070",
   "metadata": {
    "id": "19d5be07-8bb4-4381-92b3-48ee32366070"
   },
   "source": [
    "# Execution on MIMIQ Remote Services"
   ]
  },
  {
   "cell_type": "markdown",
   "id": "e5b7a27d-88c2-4bc9-81d6-231246e3fcc9",
   "metadata": {
    "id": "e5b7a27d-88c2-4bc9-81d6-231246e3fcc9"
   },
   "source": [
    "## Step 6: Create a connection to the remote services and Connect"
   ]
  },
  {
   "cell_type": "code",
   "execution_count": 7,
   "id": "19d68a1d-c6a4-4ddd-8e51-fe091bb5741e",
   "metadata": {
    "executionInfo": {
     "elapsed": 3,
     "status": "ok",
     "timestamp": 1740069748848,
     "user": {
      "displayName": "Guido Masella",
      "userId": "04164583198120049926"
     },
     "user_tz": -60
    },
    "id": "19d68a1d-c6a4-4ddd-8e51-fe091bb5741e"
   },
   "outputs": [],
   "source": [
    "conn = MimiqConnection(url=\"https://mimiq.qperfect.io/api\")"
   ]
  },
  {
   "cell_type": "markdown",
   "id": "9fed7472-970f-4b82-83d7-0115741de214",
   "metadata": {
    "id": "9fed7472-970f-4b82-83d7-0115741de214"
   },
   "source": [
    "*WARNING* connecting without any username, password or authentication token will open a local browser window or tab, asking for credentials. If not click on the link returned by `conn.connect()`. It should state something like:\n",
    "\n",
    "```\n",
    "Starting authentication server on port XXXXX (http://localhost:XXXXX)\n",
    "```"
   ]
  },
  {
   "cell_type": "code",
   "execution_count": 8,
   "id": "362bba54-e211-4b13-996f-72a0b2d090cc",
   "metadata": {
    "colab": {
     "base_uri": "https://localhost:8080/"
    },
    "executionInfo": {
     "elapsed": 2839,
     "status": "ok",
     "timestamp": 1740069751692,
     "user": {
      "displayName": "Guido Masella",
      "userId": "04164583198120049926"
     },
     "user_tz": -60
    },
    "id": "362bba54-e211-4b13-996f-72a0b2d090cc",
    "outputId": "e01f9988-5502-4adf-f675-aec77d85035e"
   },
   "outputs": [
    {
     "data": {
      "text/plain": [
       "Connection:\n",
       "├── url: https://mimiq.qperfect.io/api\n",
       "├── Computing time: 14/3000 minutes\n",
       "├── Max time limit per request: 180 minutes\n",
       "├── Default time limit is equal to max time limit: 180 minutes\n",
       "└── status: open"
      ]
     },
     "execution_count": 8,
     "metadata": {},
     "output_type": "execute_result"
    }
   ],
   "source": [
    "conn.connect(\"zavoli.lorenzo.lz@gmail.com\", \"mimpaloruni10\")"
   ]
  },
  {
   "cell_type": "markdown",
   "id": "647972c5-6d89-4932-80b2-0731541e1156",
   "metadata": {
    "id": "647972c5-6d89-4932-80b2-0731541e1156"
   },
   "source": [
    "We can check if the connection is open by using the `isOpen()` method. Take a look at the documentation for the `MimiqConnection` class, for futher information."
   ]
  },
  {
   "cell_type": "code",
   "execution_count": 9,
   "id": "3cf80581-cd6d-4aa4-9c8a-4349f818ca77",
   "metadata": {
    "colab": {
     "base_uri": "https://localhost:8080/"
    },
    "executionInfo": {
     "elapsed": 8,
     "status": "ok",
     "timestamp": 1740069751702,
     "user": {
      "displayName": "Guido Masella",
      "userId": "04164583198120049926"
     },
     "user_tz": -60
    },
    "id": "3cf80581-cd6d-4aa4-9c8a-4349f818ca77",
    "outputId": "286eb0d2-b676-43bf-a824-d3a0dc0b86c7"
   },
   "outputs": [
    {
     "data": {
      "text/plain": [
       "True"
      ]
     },
     "execution_count": 9,
     "metadata": {},
     "output_type": "execute_result"
    }
   ],
   "source": [
    "conn.isOpen()"
   ]
  },
  {
   "cell_type": "markdown",
   "id": "e847749c-7454-4871-9d71-c2b73fb5e304",
   "metadata": {
    "id": "e847749c-7454-4871-9d71-c2b73fb5e304"
   },
   "source": [
    "If the cell above returns `True`, you should have established a connection to the remote services."
   ]
  },
  {
   "cell_type": "markdown",
   "id": "bf45475f-7220-46c2-905d-6cfd1ef7e948",
   "metadata": {
    "id": "bf45475f-7220-46c2-905d-6cfd1ef7e948"
   },
   "source": [
    "## Step 7: Send the circuit for execution"
   ]
  },
  {
   "cell_type": "code",
   "execution_count": 10,
   "id": "b997c960-d085-4219-9bab-5f9173031f55",
   "metadata": {
    "colab": {
     "base_uri": "https://localhost:8080/",
     "height": 36
    },
    "executionInfo": {
     "elapsed": 710,
     "status": "ok",
     "timestamp": 1740069752411,
     "user": {
      "displayName": "Guido Masella",
      "userId": "04164583198120049926"
     },
     "user_tz": -60
    },
    "id": "b997c960-d085-4219-9bab-5f9173031f55",
    "outputId": "8beb4a79-ecd7-4a28-8333-2303f83e1d6e"
   },
   "outputs": [
    {
     "data": {
      "text/plain": [
       "'67c589c6a3b6e38acafdbe5a'"
      ]
     },
     "execution_count": 10,
     "metadata": {},
     "output_type": "execute_result"
    }
   ],
   "source": [
    "job_id = conn.execute(c, bitstrings=[BitString('0000000000')])\n",
    "job_id"
   ]
  },
  {
   "cell_type": "markdown",
   "id": "6eded96a-ef7c-4d17-8fd5-087af26839f2",
   "metadata": {
    "id": "6eded96a-ef7c-4d17-8fd5-087af26839f2"
   },
   "source": [
    "The quantum circuit is now submitted for execution on the remote services, and you have the job_id to track its progress."
   ]
  },
  {
   "cell_type": "markdown",
   "id": "188b91f5-0973-4e93-b5df-8874474100c6",
   "metadata": {
    "id": "188b91f5-0973-4e93-b5df-8874474100c6"
   },
   "source": [
    "## Step 8: Visualize informations about the execution"
   ]
  },
  {
   "cell_type": "code",
   "execution_count": 11,
   "id": "6e3cc1b2-c47f-4b20-b518-f8b64115e4fd",
   "metadata": {
    "colab": {
     "base_uri": "https://localhost:8080/"
    },
    "executionInfo": {
     "elapsed": 114,
     "status": "ok",
     "timestamp": 1740069752524,
     "user": {
      "displayName": "Guido Masella",
      "userId": "04164583198120049926"
     },
     "user_tz": -60
    },
    "id": "6e3cc1b2-c47f-4b20-b518-f8b64115e4fd",
    "outputId": "2ee89149-e2e5-4428-afdd-a0dadc6f8e76"
   },
   "outputs": [
    {
     "data": {
      "text/plain": [
       "False"
      ]
     },
     "execution_count": 11,
     "metadata": {},
     "output_type": "execute_result"
    }
   ],
   "source": [
    "# checks if the job has started its execution on the remote services\n",
    "conn.isJobStarted(job_id)"
   ]
  },
  {
   "cell_type": "code",
   "execution_count": 12,
   "id": "04a19212-3c25-448d-a895-d8dcc23bbfcd",
   "metadata": {
    "colab": {
     "base_uri": "https://localhost:8080/"
    },
    "executionInfo": {
     "elapsed": 397,
     "status": "ok",
     "timestamp": 1740069752922,
     "user": {
      "displayName": "Guido Masella",
      "userId": "04164583198120049926"
     },
     "user_tz": -60
    },
    "id": "04a19212-3c25-448d-a895-d8dcc23bbfcd",
    "outputId": "6a00869b-a80b-4cb6-8f1d-2346477a21b0"
   },
   "outputs": [
    {
     "data": {
      "text/plain": [
       "False"
      ]
     },
     "execution_count": 12,
     "metadata": {},
     "output_type": "execute_result"
    }
   ],
   "source": [
    "# checks if the job has finished its execution on the remote services\n",
    "# both cases (success or failure) are accounted.\n",
    "conn.isJobDone(job_id)"
   ]
  },
  {
   "cell_type": "code",
   "execution_count": 13,
   "id": "eaf65c3f-af23-47e2-9825-33f946491f20",
   "metadata": {
    "colab": {
     "base_uri": "https://localhost:8080/"
    },
    "executionInfo": {
     "elapsed": 131,
     "status": "ok",
     "timestamp": 1740069753055,
     "user": {
      "displayName": "Guido Masella",
      "userId": "04164583198120049926"
     },
     "user_tz": -60
    },
    "id": "eaf65c3f-af23-47e2-9825-33f946491f20",
    "outputId": "2609346d-7c1e-4c51-8e4c-52e93df658b5"
   },
   "outputs": [
    {
     "data": {
      "text/plain": [
       "False"
      ]
     },
     "execution_count": 13,
     "metadata": {},
     "output_type": "execute_result"
    }
   ],
   "source": [
    "# checks if the job has finished its execution with a failure on the remote services\n",
    "conn.isJobFailed(job_id)"
   ]
  },
  {
   "cell_type": "markdown",
   "id": "f71f5385-db82-4301-b7fd-b36003c78526",
   "metadata": {
    "id": "f71f5385-db82-4301-b7fd-b36003c78526"
   },
   "source": [
    "The full informations about the job is accessible easily using the `requestinfo` method."
   ]
  },
  {
   "cell_type": "code",
   "execution_count": 14,
   "id": "6105cb2c-f59f-4c57-bc50-a9ac403a72c6",
   "metadata": {
    "colab": {
     "base_uri": "https://localhost:8080/"
    },
    "executionInfo": {
     "elapsed": 127,
     "status": "ok",
     "timestamp": 1740069753183,
     "user": {
      "displayName": "Guido Masella",
      "userId": "04164583198120049926"
     },
     "user_tz": -60
    },
    "id": "6105cb2c-f59f-4c57-bc50-a9ac403a72c6",
    "outputId": "84eb2b53-a99a-46a0-b325-3a03bbcc3266"
   },
   "outputs": [
    {
     "data": {
      "text/plain": [
       "{'creationDate': 1740999110277,\n",
       " 'id': '67c589c6a3b6e38acafdbe5a',\n",
       " 'label': 'pyapi_v0.15.7',\n",
       " 'name': 'auto',\n",
       " 'runningDate': 1740999110501,\n",
       " 'status': 'RUNNING',\n",
       " 'hasDeletedUploadFiles': False,\n",
       " 'hasDeletedResultFiles': False,\n",
       " 'numberOfUploadedFiles': 3,\n",
       " 'weightOfUploadedFiles': 489,\n",
       " 'numberOfResultedFiles': 0,\n",
       " 'weightOfResultedFiles': 0}"
      ]
     },
     "execution_count": 14,
     "metadata": {},
     "output_type": "execute_result"
    }
   ],
   "source": [
    "conn.requestInfo(job_id)"
   ]
  },
  {
   "cell_type": "markdown",
   "id": "3c7450d3-5729-4da7-94d0-26b602551bcc",
   "metadata": {
    "id": "3c7450d3-5729-4da7-94d0-26b602551bcc"
   },
   "source": [
    "## Step 9: Retrieve the job"
   ]
  },
  {
   "cell_type": "markdown",
   "id": "fdb04715-9aaf-4df6-8435-0e9415b4e89f",
   "metadata": {
    "id": "fdb04715-9aaf-4df6-8435-0e9415b4e89f"
   },
   "source": [
    "The method `get_results()` will block execution and wait for the results from the remote service. It will check if the job finished, and the results are available every second (by default). This interval can be changed with the `interval` keyword argument (e.g. `conn.get_results(job_id, interval=10)` for checking every 10 seconds)."
   ]
  },
  {
   "cell_type": "code",
   "execution_count": 15,
   "id": "6d23a5bb-4a5b-4889-9bca-49edf6b5c6e1",
   "metadata": {
    "colab": {
     "base_uri": "https://localhost:8080/",
     "height": 685
    },
    "executionInfo": {
     "elapsed": 3978,
     "status": "ok",
     "timestamp": 1740069757164,
     "user": {
      "displayName": "Guido Masella",
      "userId": "04164583198120049926"
     },
     "user_tz": -60
    },
    "id": "6d23a5bb-4a5b-4889-9bca-49edf6b5c6e1",
    "outputId": "10fc2fb3-a8db-4dda-8af9-d956c580f877"
   },
   "outputs": [
    {
     "data": {
      "text/html": [
       "<table><tbody><tr><td colspan=2 style=\"text-align:center;\"><strong>QCSResults</strong></td></tr><tr><td colspan=2><hr></td></tr><tr><td colspan=2 style=\"text-align:center;\"><strong>Simulator</strong></td></tr><tr><td colspan=2 style=\"text-align:center;\">MIMIQ-StateVector 0.18.2</td></tr><tr><td colspan=2><hr></td></tr><tr><td colspan=2 style=\"text-align:center;\"><strong>Timings</strong></td></tr><tr><td style=\"text-align:left;\">parse time</td><td>0.000233122s</td></tr><tr><td style=\"text-align:left;\">apply time</td><td>8.8104e-05s</td></tr><tr><td style=\"text-align:left;\">total time</td><td>0.0006214160000000001s</td></tr><tr><td style=\"text-align:left;\">amplitudes time</td><td>9.163e-06s</td></tr><tr><td style=\"text-align:left;\">compression time</td><td>1.6133e-05s</td></tr><tr><td style=\"text-align:left;\">sample time</td><td>0.000146745s</td></tr><tr><td colspan=2><hr></td></tr><tr><td colspan=2></td></tr><tr><td colspan=2 style=\"text-align:center;\"><strong>Fidelity estimate</strong></td></tr><tr><td style=\"text-align:left;\">Single run value</td><td>1.0</td></tr><tr><td colspan=2><hr></td></tr><tr><td colspan=2></td></tr><tr><td colspan=2 style=\"text-align:center;\"><strong>Average multiqubit error estimate</strong></td></tr><tr><td style=\"text-align:left;\">Single run value</td><td>0.0</td></tr><tr><td colspan=2><hr></td></tr><tr><td colspan=2></td></tr><tr><td colspan=2 style=\"text-align:center;\"><strong>Statistics</strong></td></tr><tr><td style=\"text-align:left;\">Number of executions</td><td>1</td></tr><tr><td style=\"text-align:left;\">Number of samples</td><td>1000</td></tr><tr><td style=\"text-align:left;\">Number of amplitudes</td><td>1</td></tr><tr><td colspan=2><hr></td></tr><tr><td colspan=2></td></tr><tr><td colspan=2 style=\"text-align:center;\"><strong>Samples</strong></td></tr><tr><td style=\"text-align:left;font-family: monospace;\">0x3ff</td><td style=\"text-align:left;font-family: monospace;\">1111111111</td><td style=\"font-family: monospace;\">517</td></tr><tr><td style=\"text-align:left;font-family: monospace;\">0x0</td><td style=\"text-align:left;font-family: monospace;\">0000000000</td><td style=\"font-family: monospace;\">483</td></tr><tr><td colspan=2><hr></td></tr><tr><td colspan=2></td></tr><tr><td colspan=2 style=\"text-align:center;\"><strong>Statevector Amplitudes</strong></td></tr><tr><td style=\"text-align:left;\">0x0</td><td style=\"text-align:left;\">0000000000</td><td>0.707+0.000j</td></tr><tr><td colspan=2><hr></td></tr></tbody></table>"
      ],
      "text/plain": [
       "QCSResults:\n",
       "├── simulator: MIMIQ-StateVector 0.18.2\n",
       "├── timings:\n",
       "│    ├── parse time: 0.000233122s\n",
       "│    ├── apply time: 8.8104e-05s\n",
       "│    ├── total time: 0.0006214160000000001s\n",
       "│    ├── amplitudes time: 9.163e-06s\n",
       "│    ├── compression time: 1.6133e-05s\n",
       "│    └── sample time: 0.000146745s\n",
       "├── fidelity estimate: 1\n",
       "├── average multi-qubit gate error estimate: 0\n",
       "├── most sampled:\n",
       "│    ├── bs\"1111111111\" => 517\n",
       "│    └── bs\"0000000000\" => 483\n",
       "├── 1 executions\n",
       "├── 1 amplitudes\n",
       "└── 1000 samples"
      ]
     },
     "execution_count": 15,
     "metadata": {},
     "output_type": "execute_result"
    }
   ],
   "source": [
    "res = conn.get_result(job_id)\n",
    "res"
   ]
  },
  {
   "cell_type": "markdown",
   "id": "c33b32ac-2562-41b6-8b21-346638769ab1",
   "metadata": {
    "id": "c33b32ac-2562-41b6-8b21-346638769ab1"
   },
   "source": [
    "## Step 10: Plot the histogram of samples"
   ]
  },
  {
   "cell_type": "code",
   "execution_count": 16,
   "id": "ac597e23-63e4-4d5c-9afa-841244b5d124",
   "metadata": {
    "executionInfo": {
     "elapsed": 65,
     "status": "ok",
     "timestamp": 1740069757231,
     "user": {
      "displayName": "Guido Masella",
      "userId": "04164583198120049926"
     },
     "user_tz": -60
    },
    "id": "ac597e23-63e4-4d5c-9afa-841244b5d124"
   },
   "outputs": [],
   "source": [
    "from mimiqcircuits.visualization import *"
   ]
  },
  {
   "cell_type": "code",
   "execution_count": 17,
   "id": "447a598b-5ab2-4718-a91f-fb329ed1de28",
   "metadata": {
    "colab": {
     "base_uri": "https://localhost:8080/",
     "height": 717
    },
    "executionInfo": {
     "elapsed": 579,
     "status": "ok",
     "timestamp": 1740069757754,
     "user": {
      "displayName": "Guido Masella",
      "userId": "04164583198120049926"
     },
     "user_tz": -60
    },
    "id": "447a598b-5ab2-4718-a91f-fb329ed1de28",
    "outputId": "7c0f98f4-4e9b-44ae-c98f-fc6a91088776"
   },
   "outputs": [
    {
     "data": {
      "image/png": "[encoded data removed]",
      "text/plain": [
       "<Figure size 960x720 with 1 Axes>"
      ]
     },
     "metadata": {},
     "output_type": "display_data"
    }
   ],
   "source": [
    "plothistogram(res);"
   ]
  },
  {
   "cell_type": "markdown",
   "id": "8QQqPf35bo3R",
   "metadata": {
    "id": "8QQqPf35bo3R"
   },
   "source": [
    "## Sep 11: Larger circuits"
   ]
  },
  {
   "cell_type": "code",
   "execution_count": 18,
   "id": "woVCnZCKcJU-",
   "metadata": {
    "colab": {
     "base_uri": "https://localhost:8080/"
    },
    "executionInfo": {
     "elapsed": 20,
     "status": "ok",
     "timestamp": 1740069757758,
     "user": {
      "displayName": "Guido Masella",
      "userId": "04164583198120049926"
     },
     "user_tz": -60
    },
    "id": "woVCnZCKcJU-",
    "outputId": "6efee831-a02d-44ff-f7ec-9d86ebdde84e"
   },
   "outputs": [
    {
     "data": {
      "text/plain": [
       "50-qubit circuit with 50 instructions:\n",
       "├── H @ q[0]\n",
       "├── CX @ q[0], q[1]\n",
       "├── CX @ q[0], q[2]\n",
       "├── CX @ q[0], q[3]\n",
       "├── CX @ q[0], q[4]\n",
       "├── CX @ q[0], q[5]\n",
       "├── CX @ q[0], q[6]\n",
       "├── CX @ q[0], q[7]\n",
       "├── CX @ q[0], q[8]\n",
       "├── CX @ q[0], q[9]\n",
       "├── CX @ q[0], q[10]\n",
       "├── CX @ q[0], q[11]\n",
       "├── CX @ q[0], q[12]\n",
       "├── CX @ q[0], q[13]\n",
       "├── CX @ q[0], q[14]\n",
       "├── CX @ q[0], q[15]\n",
       "├── CX @ q[0], q[16]\n",
       "├── CX @ q[0], q[17]\n",
       "├── CX @ q[0], q[18]\n",
       "⋮   ⋮\n",
       "└── CX @ q[0], q[49]"
      ]
     },
     "execution_count": 18,
     "metadata": {},
     "output_type": "execute_result"
    }
   ],
   "source": [
    "c50 = Circuit()\n",
    "c50.push(GateH(), 0)\n",
    "c50.push(GateCX(), 0, range(1,50))\n",
    "c50"
   ]
  },
  {
   "cell_type": "code",
   "execution_count": 19,
   "id": "Adp1bn50cQCM",
   "metadata": {
    "colab": {
     "base_uri": "https://localhost:8080/",
     "height": 619
    },
    "executionInfo": {
     "elapsed": 4588,
     "status": "ok",
     "timestamp": 1740069762339,
     "user": {
      "displayName": "Guido Masella",
      "userId": "04164583198120049926"
     },
     "user_tz": -60
    },
    "id": "Adp1bn50cQCM",
    "outputId": "88907ca9-e87f-4ad2-8aed-1be51d0c88bc"
   },
   "outputs": [
    {
     "data": {
      "text/html": [
       "<table><tbody><tr><td colspan=2 style=\"text-align:center;\"><strong>QCSResults</strong></td></tr><tr><td colspan=2><hr></td></tr><tr><td colspan=2 style=\"text-align:center;\"><strong>Simulator</strong></td></tr><tr><td colspan=2 style=\"text-align:center;\">MIMIQ-MPS 0.17.2</td></tr><tr><td colspan=2><hr></td></tr><tr><td colspan=2 style=\"text-align:center;\"><strong>Timings</strong></td></tr><tr><td style=\"text-align:left;\">parse time</td><td>0.000508323s</td></tr><tr><td style=\"text-align:left;\">apply time</td><td>0.470594255s</td></tr><tr><td style=\"text-align:left;\">total time</td><td>0.507314068s</td></tr><tr><td style=\"text-align:left;\">amplitudes time</td><td>2.38e-07s</td></tr><tr><td style=\"text-align:left;\">compression time</td><td>0.035836303s</td></tr><tr><td style=\"text-align:left;\">sample time</td><td>0.000119824s</td></tr><tr><td colspan=2><hr></td></tr><tr><td colspan=2></td></tr><tr><td colspan=2 style=\"text-align:center;\"><strong>Fidelity estimate</strong></td></tr><tr><td style=\"text-align:left;\">Single run value</td><td>1.0</td></tr><tr><td colspan=2><hr></td></tr><tr><td colspan=2></td></tr><tr><td colspan=2 style=\"text-align:center;\"><strong>Average multiqubit error estimate</strong></td></tr><tr><td style=\"text-align:left;\">Single run value</td><td>0.0</td></tr><tr><td colspan=2><hr></td></tr><tr><td colspan=2></td></tr><tr><td colspan=2 style=\"text-align:center;\"><strong>Statistics</strong></td></tr><tr><td style=\"text-align:left;\">Number of executions</td><td>1</td></tr><tr><td style=\"text-align:left;\">Number of samples</td><td>1000</td></tr><tr><td style=\"text-align:left;\">Number of amplitudes</td><td>0</td></tr><tr><td colspan=2><hr></td></tr><tr><td colspan=2></td></tr><tr><td colspan=2 style=\"text-align:center;\"><strong>Samples</strong></td></tr><tr><td style=\"text-align:left;font-family: monospace;\">0x0</td><td style=\"text-align:left;font-family: monospace;\">00000000000000000000000000000000000000000000000000</td><td style=\"font-family: monospace;\">510</td></tr><tr><td style=\"text-align:left;font-family: monospace;\">0x3ffffffffffff</td><td style=\"text-align:left;font-family: monospace;\">11111111111111111111111111111111111111111111111111</td><td style=\"font-family: monospace;\">490</td></tr><tr><td colspan=2><hr></td></tr></tbody></table>"
      ],
      "text/plain": [
       "QCSResults:\n",
       "├── simulator: MIMIQ-MPS 0.17.2\n",
       "├── timings:\n",
       "│    ├── parse time: 0.000508323s\n",
       "│    ├── apply time: 0.470594255s\n",
       "│    ├── total time: 0.507314068s\n",
       "│    ├── amplitudes time: 2.38e-07s\n",
       "│    ├── compression time: 0.035836303s\n",
       "│    └── sample time: 0.000119824s\n",
       "├── fidelity estimate: 1\n",
       "├── average multi-qubit gate error estimate: 6.43e-16\n",
       "├── most sampled:\n",
       "│    ├── bs\"00000000000000000000000000000000000000000000000000\" => 510\n",
       "│    └── bs\"11111111111111111111111111111111111111111111111111\" => 490\n",
       "├── 1 executions\n",
       "├── 0 amplitudes\n",
       "└── 1000 samples"
      ]
     },
     "execution_count": 19,
     "metadata": {},
     "output_type": "execute_result"
    }
   ],
   "source": [
    "job50 = conn.execute(c50)\n",
    "res50 = conn.get_result(job50)\n",
    "res50"
   ]
  },
  {
   "cell_type": "code",
   "execution_count": 20,
   "id": "kSzVk4lHcUPT",
   "metadata": {
    "colab": {
     "base_uri": "https://localhost:8080/",
     "height": 717
    },
    "executionInfo": {
     "elapsed": 321,
     "status": "ok",
     "timestamp": 1740069762662,
     "user": {
      "displayName": "Guido Masella",
      "userId": "04164583198120049926"
     },
     "user_tz": -60
    },
    "id": "kSzVk4lHcUPT",
    "outputId": "5adb2e2a-25d0-4083-cd20-7f9b3a39a899"
   },
   "outputs": [
    {
     "data": {
      "image/png": "[encoded data removed]",
      "text/plain": [
       "<Figure size 960x720 with 1 Axes>"
      ]
     },
     "metadata": {},
     "output_type": "display_data"
    }
   ],
   "source": [
    "plothistogram(res50);"
   ]
  },
  {
   "cell_type": "code",
   "execution_count": 21,
   "id": "wG6G7Vw2bqBX",
   "metadata": {
    "colab": {
     "base_uri": "https://localhost:8080/"
    },
    "executionInfo": {
     "elapsed": 9,
     "status": "ok",
     "timestamp": 1740069762670,
     "user": {
      "displayName": "Guido Masella",
      "userId": "04164583198120049926"
     },
     "user_tz": -60
    },
    "id": "wG6G7Vw2bqBX",
    "outputId": "8da45c6f-8b05-4021-f1b2-389eec6ce3f7"
   },
   "outputs": [
    {
     "data": {
      "text/plain": [
       "100-qubit circuit with 100 instructions:\n",
       "├── H @ q[0]\n",
       "├── CX @ q[0], q[1]\n",
       "├── CX @ q[0], q[2]\n",
       "├── CX @ q[0], q[3]\n",
       "├── CX @ q[0], q[4]\n",
       "├── CX @ q[0], q[5]\n",
       "├── CX @ q[0], q[6]\n",
       "├── CX @ q[0], q[7]\n",
       "├── CX @ q[0], q[8]\n",
       "├── CX @ q[0], q[9]\n",
       "├── CX @ q[0], q[10]\n",
       "├── CX @ q[0], q[11]\n",
       "├── CX @ q[0], q[12]\n",
       "├── CX @ q[0], q[13]\n",
       "├── CX @ q[0], q[14]\n",
       "├── CX @ q[0], q[15]\n",
       "├── CX @ q[0], q[16]\n",
       "├── CX @ q[0], q[17]\n",
       "├── CX @ q[0], q[18]\n",
       "⋮   ⋮\n",
       "└── CX @ q[0], q[99]"
      ]
     },
     "execution_count": 21,
     "metadata": {},
     "output_type": "execute_result"
    }
   ],
   "source": [
    "c100 = Circuit()\n",
    "c100.push(GateH(), 0)\n",
    "c100.push(GateCX(), 0, range(1,100))\n",
    "c100"
   ]
  },
  {
   "cell_type": "code",
   "execution_count": 22,
   "id": "m8eMW9Grbxr-",
   "metadata": {
    "colab": {
     "base_uri": "https://localhost:8080/",
     "height": 619
    },
    "executionInfo": {
     "elapsed": 3667,
     "status": "ok",
     "timestamp": 1740069766337,
     "user": {
      "displayName": "Guido Masella",
      "userId": "04164583198120049926"
     },
     "user_tz": -60
    },
    "id": "m8eMW9Grbxr-",
    "outputId": "01ce64aa-1e48-47d9-aa6a-c5d82a6d634b"
   },
   "outputs": [
    {
     "data": {
      "text/html": [
       "<table><tbody><tr><td colspan=2 style=\"text-align:center;\"><strong>QCSResults</strong></td></tr><tr><td colspan=2><hr></td></tr><tr><td colspan=2 style=\"text-align:center;\"><strong>Simulator</strong></td></tr><tr><td colspan=2 style=\"text-align:center;\">MIMIQ-MPS 0.17.2</td></tr><tr><td colspan=2><hr></td></tr><tr><td colspan=2 style=\"text-align:center;\"><strong>Timings</strong></td></tr><tr><td style=\"text-align:left;\">parse time</td><td>0.00076469s</td></tr><tr><td style=\"text-align:left;\">apply time</td><td>0.016538627s</td></tr><tr><td style=\"text-align:left;\">total time</td><td>0.161982178s</td></tr><tr><td style=\"text-align:left;\">amplitudes time</td><td>2.88e-07s</td></tr><tr><td style=\"text-align:left;\">compression time</td><td>0.144299803s</td></tr><tr><td style=\"text-align:left;\">sample time</td><td>0.000185243s</td></tr><tr><td colspan=2><hr></td></tr><tr><td colspan=2></td></tr><tr><td colspan=2 style=\"text-align:center;\"><strong>Fidelity estimate</strong></td></tr><tr><td style=\"text-align:left;\">Single run value</td><td>1.0</td></tr><tr><td colspan=2><hr></td></tr><tr><td colspan=2></td></tr><tr><td colspan=2 style=\"text-align:center;\"><strong>Average multiqubit error estimate</strong></td></tr><tr><td style=\"text-align:left;\">Single run value</td><td>0.0</td></tr><tr><td colspan=2><hr></td></tr><tr><td colspan=2></td></tr><tr><td colspan=2 style=\"text-align:center;\"><strong>Statistics</strong></td></tr><tr><td style=\"text-align:left;\">Number of executions</td><td>1</td></tr><tr><td style=\"text-align:left;\">Number of samples</td><td>1000</td></tr><tr><td style=\"text-align:left;\">Number of amplitudes</td><td>0</td></tr><tr><td colspan=2><hr></td></tr><tr><td colspan=2></td></tr><tr><td colspan=2 style=\"text-align:center;\"><strong>Samples</strong></td></tr><tr><td style=\"text-align:left;font-family: monospace;\">0x0</td><td style=\"text-align:left;font-family: monospace;\">0000000000000000000000000000000000000000000000000000000000000000000000000000000000000000000000000000</td><td style=\"font-family: monospace;\">516</td></tr><tr><td style=\"text-align:left;font-family: monospace;\">0xfffffffffffffffffffffffff</td><td style=\"text-align:left;font-family: monospace;\">1111111111111111111111111111111111111111111111111111111111111111111111111111111111111111111111111111</td><td style=\"font-family: monospace;\">484</td></tr><tr><td colspan=2><hr></td></tr></tbody></table>"
      ],
      "text/plain": [
       "QCSResults:\n",
       "├── simulator: MIMIQ-MPS 0.17.2\n",
       "├── timings:\n",
       "│    ├── parse time: 0.00076469s\n",
       "│    ├── apply time: 0.016538627s\n",
       "│    ├── total time: 0.161982178s\n",
       "│    ├── amplitudes time: 2.88e-07s\n",
       "│    ├── compression time: 0.144299803s\n",
       "│    └── sample time: 0.000185243s\n",
       "├── fidelity estimate: 1\n",
       "├── average multi-qubit gate error estimate: 2.01e-15\n",
       "├── most sampled:\n",
       "│    ├── bs\"0000000000000000000000000000000000000000000000000000000000000000000000000000000000000000000000000000\" => 516\n",
       "│    └── bs\"1111111111111111111111111111111111111111111111111111111111111111111111111111111111111111111111111111\" => 484\n",
       "├── 1 executions\n",
       "├── 0 amplitudes\n",
       "└── 1000 samples"
      ]
     },
     "execution_count": 22,
     "metadata": {},
     "output_type": "execute_result"
    }
   ],
   "source": [
    "job100 = conn.execute(c100)\n",
    "res100 = conn.get_result(job100)\n",
    "res100"
   ]
  },
  {
   "cell_type": "markdown",
   "id": "2b116828-b0d6-4389-b07f-ba6659c13679",
   "metadata": {
    "id": "2b116828-b0d6-4389-b07f-ba6659c13679"
   },
   "source": [
    "# Using an OpenQASM file"
   ]
  },
  {
   "cell_type": "markdown",
   "id": "23cf1e06-7b31-4311-85e3-67bb0ba6730b",
   "metadata": {
    "id": "23cf1e06-7b31-4311-85e3-67bb0ba6730b"
   },
   "source": [
    "## Step 11: Retrieve the OpenQASM file"
   ]
  },
  {
   "cell_type": "code",
   "execution_count": 23,
   "id": "1312e9fc-a564-4b92-89cf-6e43f95609d5",
   "metadata": {
    "executionInfo": {
     "elapsed": 4,
     "status": "ok",
     "timestamp": 1740069766343,
     "user": {
      "displayName": "Guido Masella",
      "userId": "04164583198120049926"
     },
     "user_tz": -60
    },
    "id": "1312e9fc-a564-4b92-89cf-6e43f95609d5"
   },
   "outputs": [],
   "source": [
    "qasm = \"\"\"\n",
    "// Name of Experiment: W-state v1\n",
    "\n",
    "OPENQASM 2.0;\n",
    "include \"qelib1.inc\";\n",
    "\n",
    "\n",
    "qreg q[3];\n",
    "creg c[3];\n",
    "gate cH a,b {\n",
    "h b;\n",
    "sdg b;\n",
    "cx a,b;\n",
    "h b;\n",
    "t b;\n",
    "cx a,b;\n",
    "t b;\n",
    "h b;\n",
    "s b;\n",
    "x b;\n",
    "s a;\n",
    " }\n",
    "\n",
    "u3(1.91063,0,0) q[0];\n",
    "cH q[0],q[1];\n",
    "ccx q[0],q[1],q[2];\n",
    "x q[0];\n",
    "x q[1];\n",
    "cx q[0],q[1];\n",
    "measure q[0] -> c[0];\n",
    "measure q[1] -> c[1];\n",
    "measure q[2] -> c[2];\n",
    "\n",
    "\"\"\""
   ]
  },
  {
   "cell_type": "code",
   "execution_count": 24,
   "id": "6b43ab58-cfc4-4463-ad1a-d96f18707789",
   "metadata": {
    "executionInfo": {
     "elapsed": 1,
     "status": "ok",
     "timestamp": 1740069766346,
     "user": {
      "displayName": "Guido Masella",
      "userId": "04164583198120049926"
     },
     "user_tz": -60
    },
    "id": "6b43ab58-cfc4-4463-ad1a-d96f18707789"
   },
   "outputs": [],
   "source": [
    "with open(\"wstate_n3.qasm\", \"w\") as f:\n",
    "    f.write(qasm)"
   ]
  },
  {
   "cell_type": "code",
   "execution_count": 25,
   "id": "51cef466-de88-4c00-9f46-1c0ccefe223f",
   "metadata": {
    "executionInfo": {
     "elapsed": 707,
     "status": "ok",
     "timestamp": 1740069767055,
     "user": {
      "displayName": "Guido Masella",
      "userId": "04164583198120049926"
     },
     "user_tz": -60
    },
    "id": "51cef466-de88-4c00-9f46-1c0ccefe223f"
   },
   "outputs": [],
   "source": [
    "job_qasm = conn.execute(\"wstate_n3.qasm\", algorithm=\"statevector\")"
   ]
  },
  {
   "cell_type": "code",
   "execution_count": 26,
   "id": "9055a796-3808-492d-b320-fbb4cb8ab16f",
   "metadata": {
    "colab": {
     "base_uri": "https://localhost:8080/"
    },
    "executionInfo": {
     "elapsed": 6446,
     "status": "ok",
     "timestamp": 1740069773503,
     "user": {
      "displayName": "Guido Masella",
      "userId": "04164583198120049926"
     },
     "user_tz": -60
    },
    "id": "9055a796-3808-492d-b320-fbb4cb8ab16f",
    "outputId": "89122bd9-e0d8-46f9-9e9c-ea9bc74a42a3"
   },
   "outputs": [
    {
     "data": {
      "text/plain": [
       "{'parse': 0.001947436,\n",
       " 'apply': 7.8806e-05,\n",
       " 'total': 0.002584447,\n",
       " 'amplitudes': 1.2e-07,\n",
       " 'compression': 0.000182437,\n",
       " 'sample': 0.000209603}"
      ]
     },
     "execution_count": 26,
     "metadata": {},
     "output_type": "execute_result"
    }
   ],
   "source": [
    "res_qasm = conn.get_result(job_qasm, interval=0.1)\n",
    "res_qasm.timings"
   ]
  },
  {
   "cell_type": "code",
   "execution_count": 27,
   "id": "26be80de-c23f-4882-9fb9-a2233d642215",
   "metadata": {
    "colab": {
     "base_uri": "https://localhost:8080/",
     "height": 717
    },
    "executionInfo": {
     "elapsed": 295,
     "status": "ok",
     "timestamp": 1740069773800,
     "user": {
      "displayName": "Guido Masella",
      "userId": "04164583198120049926"
     },
     "user_tz": -60
    },
    "id": "26be80de-c23f-4882-9fb9-a2233d642215",
    "outputId": "37681976-9d87-4a82-b217-be1710ef1af2"
   },
   "outputs": [
    {
     "data": {
      "image/png": "[encoded data removed]",
      "text/plain": [
       "<Figure size 960x720 with 1 Axes>"
      ]
     },
     "metadata": {},
     "output_type": "display_data"
    }
   ],
   "source": [
    "plothistogram(res_qasm);"
   ]
  },
  {
   "cell_type": "markdown",
   "id": "fc797a93-70fd-4f1b-a04b-4fb6e0feecc9",
   "metadata": {
    "id": "fc797a93-70fd-4f1b-a04b-4fb6e0feecc9"
   },
   "source": [
    "# Complex Gates"
   ]
  },
  {
   "cell_type": "markdown",
   "id": "b231845e-412d-44bf-a6d6-d7b85129bd48",
   "metadata": {
    "id": "b231845e-412d-44bf-a6d6-d7b85129bd48"
   },
   "source": [
    "Here we show an example on how to decompose some complex gates. For more informations, visit [https://docs.qperfect.io](https://docs.qperfect.io)"
   ]
  },
  {
   "cell_type": "markdown",
   "id": "085a59ad-9d3b-4951-93b9-5aa9c233e0f8",
   "metadata": {
    "id": "085a59ad-9d3b-4951-93b9-5aa9c233e0f8"
   },
   "source": [
    "## Quantum Fourier Transform"
   ]
  },
  {
   "cell_type": "code",
   "execution_count": 28,
   "id": "8ede7905-8d79-4ede-ac76-d16eff791026",
   "metadata": {
    "colab": {
     "base_uri": "https://localhost:8080/"
    },
    "executionInfo": {
     "elapsed": 8,
     "status": "ok",
     "timestamp": 1740069773810,
     "user": {
      "displayName": "Guido Masella",
      "userId": "04164583198120049926"
     },
     "user_tz": -60
    },
    "id": "8ede7905-8d79-4ede-ac76-d16eff791026",
    "outputId": "4d666634-8235-4134-dfdd-d73d1488740b"
   },
   "outputs": [
    {
     "data": {
      "text/plain": [
       "10-qubit circuit with 1 instructions:\n",
       "└── QFT @ q[0,1,2,3,4,5,6,7,8,9]"
      ]
     },
     "execution_count": 28,
     "metadata": {},
     "output_type": "execute_result"
    }
   ],
   "source": [
    "cqft = Circuit().push(QFT(10), *range(10))\n",
    "cqft"
   ]
  },
  {
   "cell_type": "code",
   "execution_count": 29,
   "id": "f3e2b1ce-c0d2-4940-8ee1-c557aa7cfcfb",
   "metadata": {
    "colab": {
     "base_uri": "https://localhost:8080/"
    },
    "executionInfo": {
     "elapsed": 6,
     "status": "ok",
     "timestamp": 1740069773815,
     "user": {
      "displayName": "Guido Masella",
      "userId": "04164583198120049926"
     },
     "user_tz": -60
    },
    "id": "f3e2b1ce-c0d2-4940-8ee1-c557aa7cfcfb",
    "outputId": "d7235347-b00d-4497-b762-83bd25d067f5"
   },
   "outputs": [
    {
     "data": {
      "text/plain": [
       "10-qubit circuit with 55 instructions:\n",
       "├── H @ q[9]\n",
       "├── CP(0.5*pi) @ q[8], q[9]\n",
       "├── H @ q[8]\n",
       "├── CP(0.25*pi) @ q[7], q[9]\n",
       "├── CP(0.5*pi) @ q[7], q[8]\n",
       "├── H @ q[7]\n",
       "├── CP(0.125*pi) @ q[6], q[9]\n",
       "├── CP(0.25*pi) @ q[6], q[8]\n",
       "├── CP(0.5*pi) @ q[6], q[7]\n",
       "├── H @ q[6]\n",
       "├── CP(0.0625*pi) @ q[5], q[9]\n",
       "├── CP(0.125*pi) @ q[5], q[8]\n",
       "├── CP(0.25*pi) @ q[5], q[7]\n",
       "├── CP(0.5*pi) @ q[5], q[6]\n",
       "├── H @ q[5]\n",
       "├── CP(0.03125*pi) @ q[4], q[9]\n",
       "├── CP(0.0625*pi) @ q[4], q[8]\n",
       "├── CP(0.125*pi) @ q[4], q[7]\n",
       "├── CP(0.25*pi) @ q[4], q[6]\n",
       "⋮   ⋮\n",
       "└── H @ q[0]"
      ]
     },
     "execution_count": 29,
     "metadata": {},
     "output_type": "execute_result"
    }
   ],
   "source": [
    "cqft.decompose()"
   ]
  }
 ],
 "metadata": {
  "colab": {
   "provenance": []
  },
  "kernelspec": {
   "display_name": "env_mimiq",
   "language": "python",
   "name": "python3"
  },
  "language_info": {
   "codemirror_mode": {
    "name": "ipython",
    "version": 3
   },
   "file_extension": ".py",
   "mimetype": "text/x-python",
   "name": "python",
   "nbconvert_exporter": "python",
   "pygments_lexer": "ipython3",
   "version": "3.12.3"
  }
 },
 "nbformat": 4,
 "nbformat_minor": 5
}
