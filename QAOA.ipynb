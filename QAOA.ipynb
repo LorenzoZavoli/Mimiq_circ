{
 "cells": [
  {
   "cell_type": "code",
   "execution_count": 126,
   "metadata": {},
   "outputs": [],
   "source": [
    "import numpy as np\n",
    "import matplotlib.pyplot as plt\n",
    "import networkx as nx\n",
    "from symengine import *\n",
    "from mimiqcircuits import *\n",
    "from tqdm import tqdm"
   ]
  },
  {
   "cell_type": "code",
   "execution_count": 127,
   "metadata": {},
   "outputs": [],
   "source": [
    "def plot_adjacency_matrix(adj_matrix, title=\"Adjacency Matrix\"):\n",
    "    plt.figure(figsize=(6,6))\n",
    "    \n",
    "    plt.imshow(adj_matrix, cmap='gray_r', interpolation='none')\n",
    "    plt.title(title)\n",
    "    plt.colorbar(label=\"Edge Weight\")\n",
    "    plt.show()"
   ]
  },
  {
   "cell_type": "code",
   "execution_count": 128,
   "metadata": {},
   "outputs": [],
   "source": [
    "n=3\n",
    "np.random.seed(1234)"
   ]
  },
  {
   "cell_type": "code",
   "execution_count": 129,
   "metadata": {},
   "outputs": [
    {
     "data": {
      "image/png": "[encoded data removed]",
      "text/plain": [
       "<Figure size 600x600 with 2 Axes>"
      ]
     },
     "metadata": {},
     "output_type": "display_data"
    }
   ],
   "source": [
    "A = np.triu(np.random.randint(0, 2, (n, n)), 1)\n",
    "D=A+A.T\n",
    "plot_adjacency_matrix(D)"
   ]
  },
  {
   "cell_type": "code",
   "execution_count": 130,
   "metadata": {},
   "outputs": [
    {
     "data": {
      "image/png": "[encoded data removed]",
      "text/plain": [
       "<Figure size 640x480 with 1 Axes>"
      ]
     },
     "metadata": {},
     "output_type": "display_data"
    }
   ],
   "source": [
    "G = nx.Graph(D)\n",
    "nx.draw(G, with_labels=True)"
   ]
  },
  {
   "cell_type": "code",
   "execution_count": null,
   "metadata": {},
   "outputs": [],
   "source": [
    "def cost(X,A):\n",
    "    c=np.sum(A,axis=0)\n",
    "    return -X.T @ A @ X+c.T @ X"
   ]
  },
  {
   "cell_type": "code",
   "execution_count": 132,
   "metadata": {},
   "outputs": [
    {
     "data": {
      "text/plain": [
       "Connection:\n",
       "├── url: https://mimiq.qperfect.io/api\n",
       "├── Computing time: 199/3000 minutes\n",
       "├── Max time limit per request: 180 minutes\n",
       "├── Default time limit is equal to max time limit: 180 minutes\n",
       "└── status: open"
      ]
     },
     "execution_count": 132,
     "metadata": {},
     "output_type": "execute_result"
    }
   ],
   "source": [
    "connect = MimiqConnection(url=\"https://mimiq.qperfect.io/api\")\n",
    "connect.connect(\"marco.vassallo02@gmail.com\",\"Eucalipto03\")"
   ]
  },
  {
   "cell_type": "code",
   "execution_count": null,
   "metadata": {},
   "outputs": [],
   "source": [
    "def Build_QAOA(B, q, draw=False):\n",
    "    beta=[symbols(f\"beta_{i}\") for i in range(q)]\n",
    "    gamma=[symbols(f\"gamma_{i}\") for i in range(q)]\n",
    "    n=len(B) #Qubit number\n",
    "\n",
    "    c=Circuit() #Circuit definition\n",
    "    c.push(GateH(), range(0, n))\n",
    "        \n",
    "    for k in tqdm(range(0,q), desc=\"Building QAOA Layers\"):\n",
    "\n",
    "        #Block here\n",
    "        for i in range(0,n) :\n",
    "            for j in range(i+1,n):\n",
    "                A_ij = B[i,j]\n",
    "                if A_ij != 0:\n",
    "                    c.push(GateRZZ(gamma[k]*A_ij), i, j)    #The Upeer one is ALWAYS the control one\n",
    "\n",
    "        #Block Here\n",
    "        \n",
    "        c.push(GateRX(beta[k]), range(0,n))\n",
    "        \n",
    "    if draw:\n",
    "        c.draw()\n",
    "\n",
    "    return c"
   ]
  },
  {
   "cell_type": "code",
   "execution_count": 134,
   "metadata": {},
   "outputs": [],
   "source": [
    "def Run_QAOA(circuit, beta, gamma, connect):\n",
    "   dict_beta={f\"beta_{i}\":beta[i] for i in range(len(beta))}\n",
    "   dict_gamma={f\"gamma_{i}\":gamma[i] for i in range(len(gamma))}\n",
    "   full_dict = {**dict_beta, **dict_gamma}\n",
    "   ev_circ = circuit.evaluate(full_dict)\n",
    "   job_id = connect.execute(ev_circ)\n",
    "   res = connect.get_result(job_id)\n",
    "   print(res)\n",
    "   return res"
   ]
  },
  {
   "cell_type": "code",
   "execution_count": 135,
   "metadata": {},
   "outputs": [],
   "source": [
    "def Optimizer(circuit,Beta_best,Gamma_best,iteration): \n",
    "    Cost_best= 0\n",
    "    for i in tqdm(range(iteration), desc=\"outer one\"):\n",
    "        Cost=0\n",
    "        beta = Beta_best + np.random.normal(0,0.2)\n",
    "        gamma = Gamma_best + np.random.normal(0,0.2)\n",
    "        state_vector = Run_QAOA(circuit,beta,gamma,connect).histogram()\n",
    "        for state, measures in tqdm( state_vector.items(), desc=\"inner one\"):\n",
    "            state=np.array(state.tolist())\n",
    "            Cost+=cost(state,D)*measures\n",
    "        if(Cost>Cost_best):\n",
    "            Cost_best=Cost\n",
    "            Beta_best=beta\n",
    "            Gamma_best=gamma\n",
    "        if(i==iteration-1):\n",
    "            return max(state_vector, key=state_vector.get)\n",
    "    return 0"
   ]
  },
  {
   "cell_type": "code",
   "execution_count": 136,
   "metadata": {},
   "outputs": [
    {
     "name": "stderr",
     "output_type": "stream",
     "text": [
      "Building QAOA Layers: 100%|██████████| 1/1 [00:00<00:00, 2470.14it/s]\n",
      "outer one:   0%|          | 0/1 [00:00<?, ?it/s]"
     ]
    },
    {
     "name": "stdout",
     "output_type": "stream",
     "text": [
      "QCSResults:\n",
      "├── simulator: MIMIQ-StateVector 0.18.2\n",
      "├── timings:\n",
      "│    ├── total time: 0.000600419s\n",
      "│    ├── sample time: 0.000102348s\n",
      "│    ├── parse time: 0.000173804s\n",
      "│    ├── apply time: 5.6926e-05s\n",
      "│    └── compression time: 0.000117797s\n",
      "├── fidelity estimate: 1\n",
      "├── average multi-qubit gate error estimate: 0\n",
      "├── most sampled:\n",
      "│    ├── bs\"000\" => 203\n",
      "│    ├── bs\"001\" => 197\n",
      "│    ├── bs\"110\" => 171\n",
      "│    ├── bs\"111\" => 168\n",
      "│    └── bs\"010\" => 78\n",
      "├── 1 executions\n",
      "├── 0 amplitudes\n",
      "└── 1000 samples\n"
     ]
    },
    {
     "name": "stderr",
     "output_type": "stream",
     "text": [
      "inner one: 100%|██████████| 8/8 [00:00<00:00, 16777.22it/s]\n",
      "outer one:   0%|          | 0/1 [00:02<?, ?it/s]\n"
     ]
    }
   ],
   "source": [
    "iteration=1\n",
    "layer_number = 1\n",
    "circuit = Build_QAOA(D, layer_number)\n",
    "\n",
    "\n",
    "beta = np.random.uniform(0, np.pi, layer_number)\n",
    "gamma = np.random.uniform(0, np.pi, layer_number)\n",
    "val=Optimizer(circuit,beta,gamma,iteration)"
   ]
  },
  {
   "cell_type": "code",
   "execution_count": 137,
   "metadata": {},
   "outputs": [
    {
     "name": "stdout",
     "output_type": "stream",
     "text": [
      "frozenbitarray('000')\n",
      "        ┌─┐      ┌──────────────┐  ┌──────────┐                                 \n",
      " q[0]: ╶┤H├──────┤0             ├──┤RX(beta_0)├────────────────────────────────╴\n",
      "        └─┘┌─┐   │  RZZ(gamma_0)│  └──────────┘┌──────────┐                     \n",
      " q[1]: ╶───┤H├───┤1             ├──────────────┤RX(beta_0)├────────────────────╴\n",
      "           └─┘┌─┐└──────────────┘              └──────────┘┌──────────┐         \n",
      " q[2]: ╶──────┤H├──────────────────────────────────────────┤RX(beta_0)├────────╴\n",
      "              └─┘                                          └──────────┘         \n",
      "                                                                                \n"
     ]
    }
   ],
   "source": [
    "print(val)\n",
    "circuit.draw()"
   ]
  }
 ],
 "metadata": {
  "kernelspec": {
   "display_name": "tf-env",
   "language": "python",
   "name": "python3"
  },
  "language_info": {
   "codemirror_mode": {
    "name": "ipython",
    "version": 3
   },
   "file_extension": ".py",
   "mimetype": "text/x-python",
   "name": "python",
   "nbconvert_exporter": "python",
   "pygments_lexer": "ipython3",
   "version": "3.10.0"
  }
 },
 "nbformat": 4,
 "nbformat_minor": 2
}
